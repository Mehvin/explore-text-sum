{
 "cells": [
  {
   "cell_type": "markdown",
   "metadata": {},
   "source": [
    "## Attention Visualizer Generation\n",
    "The code below uses a random article for the attention visualizer. The generated JSON file is to be used with the following GitHub code: https://github.com/abisee/attn_vis"
   ]
  },
  {
   "cell_type": "code",
   "execution_count": 3,
   "metadata": {
    "scrolled": true
   },
   "outputs": [
    {
     "name": "stdout",
     "output_type": "stream",
     "text": [
      "INFO:tensorflow:Starting seq2seq_attention in decode mode...\n",
      "max_size of vocab was specified as 50000; we now have 50000 words. Stopping reading.\n",
      "Finished constructing vocabulary of 50000 total words. Last word added: baha'is\n",
      "INFO:tensorflow:Building graph...\n",
      "INFO:tensorflow:Adding attention_decoder timestep 0 of 1\n",
      "INFO:tensorflow:Time to build graph: 1 seconds\n",
      "2018-07-26 04:46:09.719784: W tensorflow/core/platform/cpu_feature_guard.cc:45] The TensorFlow library wasn't compiled to use SSE4.1 instructions, but these are available on your machine and could speed up CPU computations.\n",
      "2018-07-26 04:46:09.719855: W tensorflow/core/platform/cpu_feature_guard.cc:45] The TensorFlow library wasn't compiled to use SSE4.2 instructions, but these are available on your machine and could speed up CPU computations.\n",
      "2018-07-26 04:46:09.719865: W tensorflow/core/platform/cpu_feature_guard.cc:45] The TensorFlow library wasn't compiled to use AVX instructions, but these are available on your machine and could speed up CPU computations.\n",
      "2018-07-26 04:46:09.719873: W tensorflow/core/platform/cpu_feature_guard.cc:45] The TensorFlow library wasn't compiled to use AVX2 instructions, but these are available on your machine and could speed up CPU computations.\n",
      "2018-07-26 04:46:09.719882: W tensorflow/core/platform/cpu_feature_guard.cc:45] The TensorFlow library wasn't compiled to use FMA instructions, but these are available on your machine and could speed up CPU computations.\n",
      "INFO:tensorflow:Loading checkpoint log/pointer-generator-coverage/train/model.ckpt-232994\n",
      "INFO:tensorflow:Restoring parameters from log/pointer-generator-coverage/train/model.ckpt-232994\n",
      "\n",
      "INFO:tensorflow:ARTICLE:  __ar-old__ man is in custody after he called for an ambulance , only to have french authorities come and discover weapons , ammunition and evidence of his plans to target churches -- an attack that someone in syria requested , a top prosecutor said wednesday . the man was identified later as sid ahmed __ghlam__ , french interior minister bernard cazeneuve told television broadcaster __tf1__ . paris prosecutor francois molins said __ghlam__ asked for medical help at his home in paris ' 13th district sunday morning , claiming he had accidentally injured himself when he mishandled a weapon . but authorities found more than a man with a gunshot wound in his thigh . molins said __ghlam__ was someone suspected of killing a 32-year-old woman hours earlier and who then intended to launch a __larger-scale__ terror attack in the near future . '' -lrb- he -rrb- let them believe that he was the victim , '' french president francois hollande said wednesday . `` but police understood that there was an investigation that needed to be initiated . '' that probe started in earnest when police spotted traces of blood and bags in the suspect 's car . based on this discovery `` and in view of the attitude and suspicious behavior of the individual , '' they looked inside the car and found a loaded kalashnikov gun , a __9-mm__ revolver , three cell phones , a laptop , a usb key , a satellite navigation system `` and handwritten documents that contained information on possible targets , '' molins said . a search inside his home turned up yet more potentially key evidence , including three more __kalashnikovs__ , three bulletproof vests , police armbands , a camera , some 2,000 euros in cash and `` documents in arabic mentioning al qaeda and isis , '' according to the prosecutor . `` a terrorist attack has been foiled , '' hollande said . `` it 's not the first time . '' earlier __ghlam__ was identified as a computer science student originally from algeria . according to molins , he lived in that north african country until 2001 , joined his parents in france for the next two years , then went back to algeria . he got his undergraduate degree in that nation , then returned to france to study electronics . he 'd never been convicted of a crime ; in fact , the lone accusation against him in august 2013 was later withdrawn . but that did n't mean french authorities did n't know about __ghlam__ . `` he had been noticed wishing to go to syria , '' molins explained . the prosecutor added that authorities found nothing to suggest he was imminent threat , `` but he was under surveillance . '' law enforcement checked on the man once in 2014 and again this year , cazeneuve said . the minister said the man planned to head to syria , a country embroiled in a bloody , years-long civil war that has attracted foreigners wishing to join extremist militant groups like isis . there was no indication he ever made it . but , molins said , computer searches revealed that the man had been communicating with someone in syria who `` asked him to target a church . '' what church ? authorities did n't disclose that detail on wednesday , though molins did say `` this target was confirmed by -lrb- the suspect 's satellite navigation system -rrb- and handwritten documents in his car . '' paris is home to the famed notre dame cathedral and sacre __coeur__ basilica , both huge draws for tourists . it 's not known if either were in line to be attacked , but prime minister manuel valls wednesday visited one of the churches allegedly targeted , which was located in the paris suburb of __villejuif__ . assuming __ghlam__ does n't walk free anytime soon -- for now , he 's in custody awaiting possible charges -- that attack wo n't happen anytime soon . but authorities say he 's already claimed at least one victim . her name is __aurelie__ __chatelain__ . the 32-year-old was found dead sunday morning sitting in the passenger seat of a parked car in __villejuif__ , killed by a single bullet that struck her shoulder , went through her body and ended up embedded in the seat . cazeneuve said __chatelain__ was the mother of a 5-year-old girl and had come to the region on saturday to attend a training class . it 's not known what connection , if any , she had with the suspect . nonetheless , molins said that ballistics , dna , satellite navigation and other evidence connected him to the death of __chatelain__ , who molins called the region 's first victim of terrorism since january . that 's when the massacre at charlie hebdo 's offices and the siege of a kosher market in paris took place , prompting french authorities to beef up security measures . `` france , like other countries , is facing a terror threat that is unprecedented in its nature and magnitude , '' valls said . '' ... terrorists are targeting france to divide us . '' cnn 's jethro mullen , andrew carey , __sandrine__ __amiel__ and ariana williams contributed to this report .\n",
      "INFO:tensorflow:REFERENCE SUMMARY: suspect identified by french authorities as sid ahmed __ghlam__ . prosecutor : someone in syria asked the arrested man to target french churches . evidence connects terror plot suspect to the killing of !!__aurelie__!! !!__chatelain__!! , he says .\n",
      "INFO:tensorflow:GENERATED SUMMARY: the man was identified later as sid ahmed ghlam , french interior minister bernard cazeneuve told television broadcaster tf1 . the man was identified later as sid ahmed ghlam , french interior minister bernard cazeneuve told television broadcaster tf1 . ghlam was identified as a computer science student originally from algeria .\n",
      "\n",
      "INFO:tensorflow:Wrote visualization data to log/pointer-generator-coverage/decode/attn_vis_data.json\n",
      "\n",
      "INFO:tensorflow:ARTICLE:  as captain ross __poldark__ , his brooding good looks and rippling muscles have sent women around the country into a frenzy . but aidan turner 's __poldark__ co-star __heida__ reed has claimed the obsession with his body is sexist , and is unintentionally undermining the bbc1 series . miss reed , 27 , who stars in the period drama as __poldark__ 's former lover elizabeth , said turner , 31 , was being ` __objectified__ ' in a way that would not be tolerated if he were female . __poldark__ star __heida__ reed has claimed audiences ' obsession with aidan turner 's -lrb- pictured body is sexist . claiming it is evidence of reverse sexism , miss reed said : ` i think there should be the same standard for both sexes when it comes to things like this . ` of course it 's nice for everyone involved that he 's viewed as a sex symbol or very attractive man . but it 's getting a little bit ridiculous . i think it just undermines the rest of the show . ` i do n't think it should be any more allowed than if a woman was in the same situation . and if she was , the media would have a field day that she 's being __objectified__ . ' reed said she knew ` for a fact that -lsb- turner is -rsb- completely baffled by the amount of interest ' in the popularity of images that show him __scything__ in a field . ` the producers had no idea that was going to happen either , ' she explained . ` they never said ` let 's have his shirt taken off and everyone will go nuts ' . it was n't a strategy . ' the icelandic actress 's comments follow overwhelming interest in turner 's physique from __poldark__ 's avid fans . hundreds of viewers have taken to twitter to marvel at his strapping form , as scenes showed him swimming naked in the sea and __scything__ a field topless . one joked on twitter : ` if __poldark__ gets any hotter we 'll have to call the fire brigade . ' another told mailonline : ` there is n't a single woman i know , who does n't think he 's absolutely gorgeous . ' and they even complained after last week 's episode failed to feature turner 's bare chest . one posted : ` all bad news on the __poldark__ front tonight . __@aidan__ did n't get his shirt off once . ' however while fans ' interest might be taken for flattery , miss reed said turner , who is reportedly engaged to his girlfriend of four years , actress sarah greene , is ` completely baffled ' by the level of attention , which has included online marriage proposals . __heida__ reed pictured with her popular co-star in a scene from the tv series __poldark__ . miss reed , who is currently starring in a play about revenge porn called scarlet , in which she appears on stage in just her underwear was speaking to the daily telegraph . __poldark__ , which is based on the books by winston graham , has followed ross __poldark__ since he returned from the american war of independence only to find that his father has died and his former fiancée , elizabeth , has married another man . he rescues __demelza__ , played by eleanor tomlinson , 22 , from life as a street __urchin__ and takes her in as his maid . and their relationship develops from a working one to one of passion , __climaxing__ with a steamy bedroom scene . the final instalment of __poldark__ airs on bbc1 tomorrow at 9 pm .\n",
      "INFO:tensorflow:REFERENCE SUMMARY: __heida__ reed has claimed audiences ' obsession with her co-star is ` sexist ' she said aidan turner is being ` __objectified__ ' in a form of ` reverse sexism ' hundreds of viewers have expressed delight about turner 's bare chest .\n",
      "INFO:tensorflow:GENERATED SUMMARY: heida reed , 27 , who stars in the period drama as poldark 's former lover said turner , 31 , was being ` objectified ' in a way that would not be tolerated if he were female . poldark reed , 27 , said turner , 31 , was being ` objectified ' in a way that would not be tolerated if he were female . poldark reed has claimed audiences ' obsession with aidan turner 's body is sexist .\n",
      "\n"
     ]
    },
    {
     "name": "stdout",
     "output_type": "stream",
     "text": [
      "INFO:tensorflow:Wrote visualization data to log/pointer-generator-coverage/decode/attn_vis_data.json\n",
      "^C\n",
      "Traceback (most recent call last):\n",
      "  File \"pointer-generator/run_summarization.py\", line 332, in <module>\n",
      "    tf.app.run()\n",
      "  File \"/home/s10166858/.local/lib/python2.7/site-packages/tensorflow/python/platform/app.py\", line 48, in run\n",
      "    _sys.exit(main(_sys.argv[:1] + flags_passthrough))\n",
      "  File \"pointer-generator/run_summarization.py\", line 327, in main\n",
      "    decoder.decode() # decode indefinitely (unless single_pass=True, in which case deocde the dataset exactly once)\n",
      "  File \"/home/s10166858/abstractive/pointer-generator/decode.py\", line 99, in decode\n",
      "    best_hyp = beam_search.run_beam_search(self._sess, self._model, self._vocab, batch)\n",
      "  File \"/home/s10166858/abstractive/pointer-generator/beam_search.py\", line 121, in run_beam_search\n",
      "    prev_coverage=prev_coverage)\n",
      "  File \"/home/s10166858/abstractive/pointer-generator/model.py\", line 420, in decode_onestep\n",
      "    results = sess.run(to_return, feed_dict=feed) # run the decoder step\n",
      "  File \"/home/s10166858/.local/lib/python2.7/site-packages/tensorflow/python/client/session.py\", line 789, in run\n",
      "    run_metadata_ptr)\n",
      "  File \"/home/s10166858/.local/lib/python2.7/site-packages/tensorflow/python/client/session.py\", line 997, in _run\n",
      "    feed_dict_string, options, run_metadata)\n",
      "  File \"/home/s10166858/.local/lib/python2.7/site-packages/tensorflow/python/client/session.py\", line 1132, in _do_run\n",
      "    target_list, options, run_metadata)\n",
      "  File \"/home/s10166858/.local/lib/python2.7/site-packages/tensorflow/python/client/session.py\", line 1139, in _do_call\n",
      "    return fn(*args)\n",
      "  File \"/home/s10166858/.local/lib/python2.7/site-packages/tensorflow/python/client/session.py\", line 1121, in _run_fn\n",
      "    status, run_metadata)\n",
      "KeyboardInterrupt\n"
     ]
    }
   ],
   "source": [
    "!python2 pointer-generator/run_summarization.py --single_pass=0 --max_enc_steps=400 --max_dec_steps=120 --mode=decode --exp_name=pointer-generator"
   ]
  },
  {
   "cell_type": "markdown",
   "metadata": {},
   "source": [
    "## Testing\n",
    "The code below will generate every article in the test dataset. The generated articles can be used in the evaluation suite at a later stage for a concrete result."
   ]
  },
  {
   "cell_type": "code",
   "execution_count": null,
   "metadata": {},
   "outputs": [
    {
     "name": "stdout",
     "output_type": "stream",
     "text": [
      "INFO:tensorflow:Starting seq2seq_attention in decode mode...\n",
      "max_size of vocab was specified as 50000; we now have 50000 words. Stopping reading.\n",
      "Finished constructing vocabulary of 50000 total words. Last word added: baha'is\n",
      "INFO:tensorflow:Building graph...\n",
      "INFO:tensorflow:Adding attention_decoder timestep 0 of 1\n",
      "INFO:tensorflow:Time to build graph: 1 seconds\n",
      "2018-06-24 13:17:53.952510: W tensorflow/core/platform/cpu_feature_guard.cc:45] The TensorFlow library wasn't compiled to use SSE4.1 instructions, but these are available on your machine and could speed up CPU computations.\n",
      "2018-06-24 13:17:53.952639: W tensorflow/core/platform/cpu_feature_guard.cc:45] The TensorFlow library wasn't compiled to use SSE4.2 instructions, but these are available on your machine and could speed up CPU computations.\n",
      "2018-06-24 13:17:53.952662: W tensorflow/core/platform/cpu_feature_guard.cc:45] The TensorFlow library wasn't compiled to use AVX instructions, but these are available on your machine and could speed up CPU computations.\n",
      "2018-06-24 13:17:53.952677: W tensorflow/core/platform/cpu_feature_guard.cc:45] The TensorFlow library wasn't compiled to use AVX2 instructions, but these are available on your machine and could speed up CPU computations.\n",
      "2018-06-24 13:17:53.952692: W tensorflow/core/platform/cpu_feature_guard.cc:45] The TensorFlow library wasn't compiled to use FMA instructions, but these are available on your machine and could speed up CPU computations.\n",
      "INFO:tensorflow:Loading checkpoint log/seq2seq/train/model.ckpt-244998\n",
      "INFO:tensorflow:Restoring parameters from log/seq2seq/train/model.ckpt-244998\n",
      "INFO:tensorflow:Wrote example 0 to file\n",
      "INFO:tensorflow:Wrote example 1 to file\n"
     ]
    }
   ],
   "source": [
    "!python2 pointer-generator/run_summarization.py --single_pass=1 --max_enc_steps=400 --max_dec_steps=120 --mode=decode --exp_name=pointer-generator"
   ]
  }
 ],
 "metadata": {
  "kernelspec": {
   "display_name": "Python 3",
   "language": "python",
   "name": "python3"
  },
  "language_info": {
   "codemirror_mode": {
    "name": "ipython",
    "version": 2
   },
   "file_extension": ".py",
   "mimetype": "text/x-python",
   "name": "python",
   "nbconvert_exporter": "python",
   "pygments_lexer": "ipython2",
   "version": "2.7.14"
  }
 },
 "nbformat": 4,
 "nbformat_minor": 2
}
