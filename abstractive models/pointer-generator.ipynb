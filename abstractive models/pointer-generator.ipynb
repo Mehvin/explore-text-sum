{
 "cells": [
  {
   "cell_type": "markdown",
   "metadata": {},
   "source": [
    "## Pointer-Generator w/o Coverage\n",
    "The code below was used to train both the Seq2Seq and Pointer Generator Model for English.\n",
    "\n",
    "The team have observed that both the max_enc_steps and max_dec_steps affects the training of the model the most. The settings below shows the most optimal hyperparameter for each iteration steps shown in max_batch."
   ]
  },
  {
   "cell_type": "code",
   "execution_count": null,
   "metadata": {
    "scrolled": true
   },
   "outputs": [],
   "source": [
    "!python2 pointer-generator/run_summarization.py --max_batch=71000 --max_enc_steps=10 --max_dec_steps=10 --mode=train --exp_name=pointer-generator"
   ]
  },
  {
   "cell_type": "code",
   "execution_count": null,
   "metadata": {},
   "outputs": [],
   "source": [
    "!python2 pointer-generator/run_summarization.py --max_batch=116000 --max_enc_steps=50 --max_dec_steps=50 --mode=train --exp_name=pointer-generator"
   ]
  },
  {
   "cell_type": "code",
   "execution_count": null,
   "metadata": {},
   "outputs": [],
   "source": [
    "!python2 pointer-generator/run_summarization.py --max_batch=184000 --max_enc_steps=100 --max_dec_steps=50 --mode=train --exp_name=pointer-generator"
   ]
  },
  {
   "cell_type": "code",
   "execution_count": null,
   "metadata": {},
   "outputs": [],
   "source": [
    "!python2 pointer-generator/run_summarization.py --max_batch=223000 --max_enc_steps=200 --max_dec_steps=50 --mode=train --exp_name=pointer-generator"
   ]
  },
  {
   "cell_type": "code",
   "execution_count": null,
   "metadata": {},
   "outputs": [],
   "source": [
    "!python2 pointer-generator/run_summarization.py --max_batch=230000 --max_enc_steps=400 --max_dec_steps=100 --mode=train --exp_name=pointer-generator"
   ]
  },
  {
   "cell_type": "markdown",
   "metadata": {},
   "source": [
    "## Pointer-Generator w Coverage\n",
    "The code below was used to train the Pointer Generator Model with Coverage."
   ]
  },
  {
   "cell_type": "code",
   "execution_count": null,
   "metadata": {},
   "outputs": [],
   "source": [
    "!python2 pointer-generator/run_summarization.py --max_batch=233000 --max_enc_steps=400 --max_dec_steps=100 --mode=train --exp_name=pointer-generator-coverage"
   ]
  },
  {
   "cell_type": "markdown",
   "metadata": {},
   "source": [
    "## Pointer-Generator w Coverage + Aus Dataset\n",
    "The code below trains the Pointer-Generator Model with alternate dataset."
   ]
  },
  {
   "cell_type": "code",
   "execution_count": null,
   "metadata": {},
   "outputs": [],
   "source": [
    "!python2 pointer-generator/run_summarization.py --max_batch=236000 --max_enc_steps=400 --max_dec_steps=100 --mode=train --exp_name=pointer-generator-train"
   ]
  },
  {
   "cell_type": "markdown",
   "metadata": {},
   "source": [
    "## Pointer-Generator - LCST\n",
    "The code below was used to train both the Seq2Seq and Pointer Generator Model for Chinese."
   ]
  },
  {
   "cell_type": "code",
   "execution_count": null,
   "metadata": {},
   "outputs": [],
   "source": [
    "!python2 pointer-generator/run_summarization.py --max_batch=230000 --max_enc_steps=50 --max_dec_steps=50 --mode=train --exp_name=lcst-pointer-generator"
   ]
  },
  {
   "cell_type": "code",
   "execution_count": null,
   "metadata": {},
   "outputs": [],
   "source": [
    "!python2 pointer-generator/run_summarization.py --max_batch=167000 --max_enc_steps=50 --max_dec_steps=50 --mode=train --exp_name=lcst-pointer-generator-coverage"
   ]
  }
 ],
 "metadata": {
  "kernelspec": {
   "display_name": "Python 3",
   "language": "python",
   "name": "python3"
  },
  "language_info": {
   "codemirror_mode": {
    "name": "ipython",
    "version": 2
   },
   "file_extension": ".py",
   "mimetype": "text/x-python",
   "name": "python",
   "nbconvert_exporter": "python",
   "pygments_lexer": "ipython2",
   "version": "2.7.14"
  }
 },
 "nbformat": 4,
 "nbformat_minor": 2
}
