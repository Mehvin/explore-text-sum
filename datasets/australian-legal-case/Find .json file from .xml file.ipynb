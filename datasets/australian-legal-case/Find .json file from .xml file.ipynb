{
 "cells": [
  {
   "cell_type": "markdown",
   "metadata": {},
   "source": [
    "To find the 3 doc used for showing raw text"
   ]
  },
  {
   "cell_type": "code",
   "execution_count": 10,
   "metadata": {},
   "outputs": [
    {
     "name": "stdout",
     "output_type": "stream",
     "text": [
      "Legal Case #3 - 584.json\n",
      "Legal Case #2 - 947.json\n",
      "Legal Case #1 - 1110.json\n"
     ]
    }
   ],
   "source": [
    "import os\n",
    "\n",
    "dataset_folder_path = \"/home/s10166858/kawaijoe/Dataset/australian-legal-case/extractive_dataset\"\n",
    "\n",
    "for file in os.listdir(dataset_folder_path):\n",
    "    with open(dataset_folder_path + \"/\" + file, 'r') as f:\n",
    "        content = f.read()\n",
    "        \n",
    "        if content.find(\"Ms Jane Rutter is a professional flautist.Between 1989 and 2007 \") != -1:\n",
    "            print(\"Legal Case #1 - \" + file)\n",
    "        \n",
    "        if content.find(\"On 2 September 2009, the applicants filed a Notice of Motion\") != -1:\n",
    "            print(\"Legal Case #2 - \" + file)\n",
    "            \n",
    "        if content.find(\"her Honour dismissed an application to review a decision of the Refugee Review Tribunal rejecting the appellant's\") != -1:\n",
    "            print(\"Legal Case #3 - \" + file)"
   ]
  },
  {
   "cell_type": "code",
   "execution_count": null,
   "metadata": {},
   "outputs": [],
   "source": [
    "#Legal Case #1 - article1110_system1.txt\n",
    "#Legal Case #2 - article947_system1.txt\n",
    "#Legal Case #3 - article584_system1.txt"
   ]
  }
 ],
 "metadata": {
  "kernelspec": {
   "display_name": "Python 3",
   "language": "python",
   "name": "python3"
  },
  "language_info": {
   "codemirror_mode": {
    "name": "ipython",
    "version": 2
   },
   "file_extension": ".py",
   "mimetype": "text/x-python",
   "name": "python",
   "nbconvert_exporter": "python",
   "pygments_lexer": "ipython2",
   "version": "2.7.14"
  }
 },
 "nbformat": 4,
 "nbformat_minor": 2
}
