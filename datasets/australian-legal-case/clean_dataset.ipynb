{
 "cells": [
  {
   "cell_type": "markdown",
   "metadata": {},
   "source": [
    "## Example of Raw Source Text"
   ]
  },
  {
   "cell_type": "code",
   "execution_count": null,
   "metadata": {},
   "outputs": [],
   "source": [
    "<?xml version=\"1.0\"?>\n",
    "<case>\n",
    "<name>Sharman Networks Ltd v Universal Music Australia Pty Ltd [2006] FCA 1 (5 January 2006)</name>\n",
    "<AustLII>http://www.austlii.edu.au/au/cases/cth/FCA/2006/1.html</AustLII>\n",
    "<catchphrases>\n",
    "<catchphrase \"id=c0\">application for leave to appeal</catchphrase>\n",
    "<catchphrase \"id=c1\">authorisation of multiple infringements of copyright established</catchphrase>\n",
    "<catchphrase \"id=c2\">prior sale of realty of one respondent to primary proceedings</catchphrase>\n",
    "<catchphrase \"id=c3\">payment of substantial part of proceeds of sale to offshore company in purported repayment of loan</catchphrase>\n",
    "...\n",
    "...\n",
    "...\n",
    "</catchphrases>\n",
    "<sentences>\n",
    "<sentence id=\"s0\">\n",
    " Background to the current application \n",
    " \n",
    "1 The applicants Sharman Networks Ltd ('Sharman Networks'), Sharman License Holdings Ltd ('Sharman License') and Ms Nicola Anne Hemming ('Ms Hemming') are each the subject of asset preservation orders made by Wilcox J on 22 March 2005 ('the Mareva orders').</sentence>\n",
    "<sentence id=\"s1\">When referring to the applicants generally, I will do so as 'the Sharman applicants'.</sentence>\n",
    "<sentence id=\"s2\">Each of the Sharman applicants was one of ten respondents to infringement of copyright proceedings brought by the present respondents ('the Music companies') in respect of the operation of what was described by the parties as the 'Kazaa system' ('the primary proceedings').</sentence>\n",
    "<sentence id=\"s3\">Wilcox J made orders ancillary to the Mareva orders on 22 March 2005 requiring each of the Sharman applicants to disclose on affidavit the description and value of all of their assets, wherever situated, and to specify whether those assets were held by each applicant either beneficially or in trust for any other person or entity.</sentence>\n",
    "<sentence id=\"s4\">2 Wilcox J delivered judgment on the complex issues of liability arising in the primary proceedings on 5 September 2005 ( Universal Music Australia Pty Ltd v Sharman License Holdings Ltd (2005) 220 ALR 1).</sentence>\n",
    "<sentence id=\"s5\">In the meantime, Ms Hemming had filed two disclosure affidavits pursuant to Wilcox J's orders of 22 March 2005 whilst Sharman License and Sharman Networks had unsuccessfully sought several stays on various grounds of that same order insofar as it applied to them (see Universal Music Australia Pty Ltd v Sharman License Holdings Ltd [2005] FCA 406 per Hely J, delivered 8 April 2005; Universal Music Australia Pty Ltd v Sharman License Holdings Ltd [2005] FCA 441 per Wilcox J, delivered 15 April 2005 and Sharman License Holdings Ltd v Universal Music Australia Pty Ltd [2005] FCA 505 per Moore J, delivered 28 April 2005).</sentence>\n",
    "<sentence id=\"s6\">Disclosure affid\n",
    "\n",
    "...\n",
    "...\n",
    "..."
   ]
  },
  {
   "cell_type": "markdown",
   "metadata": {},
   "source": [
    "## Cleaning Code to Extractive Methods"
   ]
  },
  {
   "cell_type": "code",
   "execution_count": 1,
   "metadata": {},
   "outputs": [],
   "source": [
    "# This function removes the Index Error\n",
    "def remove_dash_error(data):\n",
    "    data = data.replace(\" - \", \" \")\n",
    "    data = data.replace(\" -\", \" \")\n",
    "    data = data.replace(\"- \", \" \")\n",
    "    data = data.replace(\" -- \", \" \")\n",
    "    data = data.replace(\" --\", \" \")\n",
    "    data = data.replace(\"-- \", \" \")\n",
    "\n",
    "    \n",
    "    data = data.replace(\" — \", \" \")\n",
    "    data = data.replace(\" —\", \" \")\n",
    "    data = data.replace(\"— \", \" \")\n",
    "    data = data.replace(\" —— \", \" \")\n",
    "    data = data.replace(\" ——\", \" \")\n",
    "    data = data.replace(\"—— \", \" \")\n",
    "    \n",
    "    data = data.replace(\" – \", \" \")\n",
    "    data = data.replace(\"– \", \" \")\n",
    "    data = data.replace(\" –\", \" \")\n",
    "    data = data.replace(\" –– \", \" \")\n",
    "    data = data.replace(\"–– \", \" \")\n",
    "    data = data.replace(\" ––\", \" \")\n",
    "    \n",
    "    return data"
   ]
  },
  {
   "cell_type": "code",
   "execution_count": 2,
   "metadata": {},
   "outputs": [
    {
     "name": "stdout",
     "output_type": "stream",
     "text": [
      "Cleaning Completed!\n"
     ]
    }
   ],
   "source": [
    "import os\n",
    "\n",
    "#dataset path\n",
    "dataset_folder_path = \"/home/s10166858/kawaijoe/Dataset/australian-legal-case/raw\"\n",
    "\n",
    "#empty folder for cleaned extractive dataset\n",
    "extractive_folder_path = \"/home/s10166858/kawaijoe/Dataset/australian-legal-case/extractive_dataset\"\n",
    "\n",
    "for file in os.listdir(dataset_folder_path):\n",
    "    with open(dataset_folder_path + \"/\" + file, 'r') as f:\n",
    "        file_count = file[:-5]\n",
    "\n",
    "        pre_data = f.read()\n",
    "\n",
    "        # Error-handling\n",
    "        pre_data = pre_data.replace(\"\\\\\", \"/\") # For 4425.json - JSONDecodeError: Invalid \\escape problem\n",
    "        pre_data = pre_data.replace(\"'\", \"\\'\")\n",
    "        pre_data = pre_data.replace('\"', \"\\'\")\n",
    "        pre_data = remove_dash_error(pre_data)\n",
    "        pre_data = pre_data.replace('\\n','')\n",
    "        pre_data = pre_data.strip()\n",
    "\n",
    "        data = \"{\\\"id\\\":\\\"\" + str(file_count) + \"\\\", \\\"text\\\":\\\"\" + pre_data + \"\\\"}\"\n",
    "\n",
    "        new_filename = file_count + '.json'\n",
    "        with open(extractive_folder_path + '/' + new_filename, 'a') as f:\n",
    "            f.write(data)\n",
    "            \n",
    "print(\"Cleaning Completed!\")"
   ]
  }
 ],
 "metadata": {
  "kernelspec": {
   "display_name": "Python 3",
   "language": "python",
   "name": "python3"
  },
  "language_info": {
   "codemirror_mode": {
    "name": "ipython",
    "version": 2
   },
   "file_extension": ".py",
   "mimetype": "text/x-python",
   "name": "python",
   "nbconvert_exporter": "python",
   "pygments_lexer": "ipython2",
   "version": "2.7.14"
  }
 },
 "nbformat": 4,
 "nbformat_minor": 2
}
