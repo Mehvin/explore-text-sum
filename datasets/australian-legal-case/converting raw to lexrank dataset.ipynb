{
 "cells": [
  {
   "cell_type": "markdown",
   "metadata": {},
   "source": [
    "This code modifies the dataset for it to be fitted into LexRank\n",
    "1. Combine all of the lines of text into 1\n",
    "2. Add a spacing after fullstops '.' - else LexRank cant recognise a sentence"
   ]
  },
  {
   "cell_type": "code",
   "execution_count": 3,
   "metadata": {},
   "outputs": [],
   "source": [
    "import os\n",
    "raw_dataset = \"/home/s10166858/kawaijoe/Dataset/australian-legal-case/raw/\"\n",
    "lexrank_dataset_dir = \"/home/s10166858/kawaijoe/Dataset/australian-legal-case/lexrank-dataset\"\n",
    "\n",
    "for file in sorted(os.listdir(raw_dataset)):\n",
    "    with open(raw_dataset + file, 'r') as f:\n",
    "        full_text = f.readlines()\n",
    "\n",
    "    modified_text = \"\"\n",
    "\n",
    "    for line in full_text:\n",
    "        if line != \"\\n\":\n",
    "            modified_text += line.strip()\n",
    "    \n",
    "    modified_text = modified_text.replace('.', '. ')\n",
    "    \n",
    "    new_filepath = os.path.join(lexrank_dataset_dir, file)\n",
    "    \n",
    "    with open(new_filepath, \"a\") as f:\n",
    "        f.write(modified_text)"
   ]
  }
 ],
 "metadata": {
  "kernelspec": {
   "display_name": "Python 3",
   "language": "python",
   "name": "python3"
  },
  "language_info": {
   "codemirror_mode": {
    "name": "ipython",
    "version": 2
   },
   "file_extension": ".py",
   "mimetype": "text/x-python",
   "name": "python",
   "nbconvert_exporter": "python",
   "pygments_lexer": "ipython2",
   "version": "2.7.14"
  }
 },
 "nbformat": 4,
 "nbformat_minor": 2
}
