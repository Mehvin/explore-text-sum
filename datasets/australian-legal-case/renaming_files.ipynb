{
 "cells": [
  {
   "cell_type": "markdown",
   "metadata": {},
   "source": [
    "# Already ran do not run again!"
   ]
  },
  {
   "cell_type": "code",
   "execution_count": 2,
   "metadata": {},
   "outputs": [],
   "source": [
    "#This short program renames the files to simple numbers\n",
    "import os\n",
    "\n",
    "dataset_folder_path = \"/home/s10166858/kawaijoe/Dataset/australian-legal-case/extractive_dataset/\"\n",
    "reference_dir = \"/home/s10166858/kawaijoe/Extractive Methods/pyTextRank for Australian Legal Case/All-NLP/reference/\""
   ]
  },
  {
   "cell_type": "code",
   "execution_count": 2,
   "metadata": {},
   "outputs": [],
   "source": [
    "# Rename raw files\n",
    "count = 0\n",
    "for file in sorted(os.listdir(dataset_folder_path)):\n",
    "    count = count + 1 \n",
    "    new_file_name = str(count) + '.xml'\n",
    "    os.rename(dataset_folder_path + file , dataset_folder_path + new_file_name)"
   ]
  },
  {
   "cell_type": "code",
   "execution_count": 3,
   "metadata": {},
   "outputs": [],
   "source": [
    "# Rename reference files\n",
    "count = 0\n",
    "for file in sorted(os.listdir(reference_dir)):\n",
    "    count = count + 1\n",
    "    new_file_name = str(count) + '.xml'\n",
    "    os.rename(reference_dir + file , reference_dir + new_file_name)"
   ]
  },
  {
   "cell_type": "code",
   "execution_count": 4,
   "metadata": {},
   "outputs": [],
   "source": [
    "# Renaming reference files again to proper format (E.g.article100_reference1.txt)\n",
    "for file in os.listdir(reference_dir):\n",
    "    file_count = file[:-4]\n",
    "    new_file_name = \"article\" + str(file_count) + \"_reference1.txt\"\n",
    "    os.rename(reference_dir + file , reference_dir + new_file_name)"
   ]
  },
  {
   "cell_type": "code",
   "execution_count": 7,
   "metadata": {},
   "outputs": [],
   "source": [
    "# Renaming raw dataset file type to json so that pyTextRank can run\n",
    "for file in sorted(os.listdir(dataset_folder_path)):\n",
    "    new_file_name = file[:-3] + \"json\"\n",
    "    os.rename(dataset_folder_path + file , dataset_folder_path + new_file_name)"
   ]
  },
  {
   "cell_type": "code",
   "execution_count": null,
   "metadata": {},
   "outputs": [],
   "source": []
  }
 ],
 "metadata": {
  "kernelspec": {
   "display_name": "Python 3",
   "language": "python",
   "name": "python3"
  },
  "language_info": {
   "codemirror_mode": {
    "name": "ipython",
    "version": 2
   },
   "file_extension": ".py",
   "mimetype": "text/x-python",
   "name": "python",
   "nbconvert_exporter": "python",
   "pygments_lexer": "ipython2",
   "version": "2.7.14"
  }
 },
 "nbformat": 4,
 "nbformat_minor": 2
}
