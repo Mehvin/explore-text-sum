{
 "cells": [
  {
   "cell_type": "code",
   "execution_count": 1,
   "metadata": {},
   "outputs": [],
   "source": [
    "import os\n",
    "\n",
    "extractive_dataset = \"/home/s10166858/kawaijoe/Dataset/cnn-dailymail-master/extractive_dataset/\"\n",
    "lexrank_extractive_dataset = \"/home/s10166858/kawaijoe/Dataset/cnn-dailymail-master/lexrank_extractive_dataset\""
   ]
  },
  {
   "cell_type": "code",
   "execution_count": null,
   "metadata": {},
   "outputs": [],
   "source": [
    "for file in (os.listdir(extractive_dataset)):\n",
    "    with open(extractive_dataset + '/' + file, 'r') as f:\n",
    "        fileno_count = 0\n",
    "\n",
    "        text = f.read()\n",
    "        fileno = file[:-5]\n",
    "\n",
    "        for char in fileno:\n",
    "            fileno_count = fileno_count + 1\n",
    "\n",
    "        text = text[fileno_count+18:]\n",
    "        text = text[:-2]\n",
    "\n",
    "        new_filename = file\n",
    "        new_filepath = os.path.join(lexrank_extractive_dataset, new_filename)\n",
    "        \n",
    "    with open(new_filepath, \"a\") as f:\n",
    "        f.write(text)"
   ]
  },
  {
   "cell_type": "code",
   "execution_count": null,
   "metadata": {},
   "outputs": [],
   "source": []
  }
 ],
 "metadata": {
  "kernelspec": {
   "display_name": "Python 3",
   "language": "python",
   "name": "python3"
  },
  "language_info": {
   "codemirror_mode": {
    "name": "ipython",
    "version": 2
   },
   "file_extension": ".py",
   "mimetype": "text/x-python",
   "name": "python",
   "nbconvert_exporter": "python",
   "pygments_lexer": "ipython2",
   "version": "2.7.14"
  }
 },
 "nbformat": 4,
 "nbformat_minor": 2
}
