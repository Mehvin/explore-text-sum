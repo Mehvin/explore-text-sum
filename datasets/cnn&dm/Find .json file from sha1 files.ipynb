{
 "cells": [
  {
   "cell_type": "markdown",
   "metadata": {},
   "source": [
    "Program just to get 3 specific examples\n",
    "\n",
    "First 3 used for Raw results\n",
    "\n",
    "5ad8f3cd3351d259d6fec937aa0a31cac1bc3f3b - CNN file\n",
    "\n",
    "bc8f067615a8e70ca41b2657b3b93ef94497580c - DM file #1\n",
    "\n",
    "6662e68fa9d78198ba62bc347bfedd63dd9c6510 - DM file #2"
   ]
  },
  {
   "cell_type": "code",
   "execution_count": 3,
   "metadata": {},
   "outputs": [
    {
     "name": "stdout",
     "output_type": "stream",
     "text": [
      "CNN file - 33252\n",
      "DM file #2 - 37518\n",
      "DM file #1 - 68960\n"
     ]
    }
   ],
   "source": [
    "import os\n",
    "\n",
    "pre_extractive_dataset = \"pre_extractive_dataset/\"\n",
    "\n",
    "count = 1\n",
    "\n",
    "# Finding CNN file\n",
    "for filename in sorted(os.listdir(pre_extractive_dataset)):\n",
    "    if filename == \"5ad8f3cd3351d259d6fec937aa0a31cac1bc3f3b\":\n",
    "        print(\"CNN file - \" + str(count)) \n",
    "        \n",
    "    if filename == \"bc8f067615a8e70ca41b2657b3b93ef94497580c\":\n",
    "        print(\"DM file #1 - \" + str(count))\n",
    "    \n",
    "    if filename == \"6662e68fa9d78198ba62bc347bfedd63dd9c6510\":\n",
    "        print(\"DM file #2 - \" + str(count))\n",
    "        \n",
    "    count = count + 1"
   ]
  },
  {
   "cell_type": "code",
   "execution_count": null,
   "metadata": {},
   "outputs": [],
   "source": [
    "#article33252_system1.txt\n",
    "#article68960_system1.txt\n",
    "#article37518_system1.txt\n",
    "\n",
    "#article33252_reference1.txt\n",
    "#article68960_reference1.txt\n",
    "#article37518_reference1.txt"
   ]
  }
 ],
 "metadata": {
  "kernelspec": {
   "display_name": "Python 3",
   "language": "python",
   "name": "python3"
  },
  "language_info": {
   "codemirror_mode": {
    "name": "ipython",
    "version": 2
   },
   "file_extension": ".py",
   "mimetype": "text/x-python",
   "name": "python",
   "nbconvert_exporter": "python",
   "pygments_lexer": "ipython2",
   "version": "2.7.14"
  }
 },
 "nbformat": 4,
 "nbformat_minor": 2
}
