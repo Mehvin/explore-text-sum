{
 "cells": [
  {
   "cell_type": "markdown",
   "metadata": {},
   "source": [
    "## To create data files for abstractive models\n",
    "cnn/example_stories & dailymail/example_stories are just sample folders, it should be folders containing the full raw datasets.\n",
    "This can be use for other datasets as well, such as the australian legal reports dataset.",
    "\nPlease refer to the following Github page: https://github.com/abisee/cnn-dailymail"
   ]
  },
  {
   "cell_type": "code",
   "execution_count": null,
   "metadata": {},
   "outputs": [
    {
     "name": "stdout",
     "output_type": "stream",
     "text": [
      "Making bin file for URLs listed in url_lists/final_test_example.txt...\n",
      "Writing story 0 of 3; 0.00 percent done\n",
      "Writing \n",
      "<s> suspect identified by french authorities as sid ahmed ghlam . </s> <s> prosecutor : someone in syria asked the arrested man to target french churches . </s> <s> evidence connects terror plot suspect to the killing of aurelie chatelain , he says . </s>\n",
      "Writing \n",
      "<s> heida reed has claimed audiences ' obsession with her co-star is ` sexist ' </s> <s> she said aidan turner is being ` objectified ' in a form of ` reverse sexism ' </s> <s> hundreds of viewers have expressed delight about turner 's bare chest . </s>\n",
      "Writing \n",
      "<s> two bmw drivers violently clashed after a road rage row in east london . </s> <s> a 25-year-old motorist rammed fellow driver who had stripped in street . </s> <s> he was arrested on suspicion of actual bodily harm and has been bailed . </s> <s> video shows shirtless man punching fellow motorist through car window . </s>\n",
      "Finished writing file finished_files_example/test.bin\n",
      "\n",
      "Making bin file for URLs listed in url_lists/final_eval_example.txt...\n",
      "Writing story 0 of 3; 0.00 percent done\n",
      "Writing \n",
      "<s> suspect identified by french authorities as sid ahmed ghlam . </s> <s> prosecutor : someone in syria asked the arrested man to target french churches . </s> <s> evidence connects terror plot suspect to the killing of aurelie chatelain , he says . </s>\n",
      "Writing \n",
      "<s> heida reed has claimed audiences ' obsession with her co-star is ` sexist ' </s> <s> she said aidan turner is being ` objectified ' in a form of ` reverse sexism ' </s> <s> hundreds of viewers have expressed delight about turner 's bare chest . </s>\n",
      "Writing \n",
      "<s> two bmw drivers violently clashed after a road rage row in east london . </s> <s> a 25-year-old motorist rammed fellow driver who had stripped in street . </s> <s> he was arrested on suspicion of actual bodily harm and has been bailed . </s> <s> video shows shirtless man punching fellow motorist through car window . </s>\n",
      "Finished writing file finished_files_example/val.bin\n",
      "\n",
      "Making bin file for URLs listed in url_lists/final_train_example.txt...\n",
      "Writing story 0 of 3; 0.00 percent done\n",
      "Writing \n",
      "<s> suspect identified by french authorities as sid ahmed ghlam . </s> <s> prosecutor : someone in syria asked the arrested man to target french churches . </s> <s> evidence connects terror plot suspect to the killing of aurelie chatelain , he says . </s>\n",
      "Writing \n",
      "<s> heida reed has claimed audiences ' obsession with her co-star is ` sexist ' </s> <s> she said aidan turner is being ` objectified ' in a form of ` reverse sexism ' </s> <s> hundreds of viewers have expressed delight about turner 's bare chest . </s>\n",
      "Writing \n",
      "<s> two bmw drivers violently clashed after a road rage row in east london . </s> <s> a 25-year-old motorist rammed fellow driver who had stripped in street . </s> <s> he was arrested on suspicion of actual bodily harm and has been bailed . </s> <s> video shows shirtless man punching fellow motorist through car window . </s>\n",
      "Finished writing file finished_files_example/train.bin\n",
      "\n",
      "Writing vocab file...\n",
      "Finished writing vocab file\n",
      "Splitting train data into chunks...\n",
      "Splitting val data into chunks...\n",
      "Splitting test data into chunks...\n"
     ]
    }
   ],
   "source": [
    "!python make_datafiles.py cnn/example_stories dailymail/example_stories"
   ]
  }
 ],
 "metadata": {
  "kernelspec": {
   "display_name": "Python 2",
   "language": "python",
   "name": "python2"
  },
  "language_info": {
   "codemirror_mode": {
    "name": "ipython",
    "version": 2
   },
   "file_extension": ".py",
   "mimetype": "text/x-python",
   "name": "python",
   "nbconvert_exporter": "python",
   "pygments_lexer": "ipython2",
   "version": "2.7.14"
  }
 },
 "nbformat": 4,
 "nbformat_minor": 2
}
