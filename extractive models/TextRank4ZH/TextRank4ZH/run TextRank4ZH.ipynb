{
 "cells": [
  {
   "cell_type": "markdown",
   "metadata": {},
   "source": [
    "# TextRank4ZH\n",
    "\n",
    "https://github.com/letiantian/TextRank4ZH\n",
    "\n",
    "https://github.com/fxsjy/jieba\n"
   ]
  },
  {
   "cell_type": "code",
   "execution_count": 1,
   "metadata": {},
   "outputs": [
    {
     "ename": "IOError",
     "evalue": "[Errno 2] No such file or directory: '/home/s10166858/kawaijoe/Extractive Methods/TextRank4ZH/system/article1_system1.txt'",
     "output_type": "error",
     "traceback": [
      "\u001b[0;31m---------------------------------------------------------------------------\u001b[0m",
      "\u001b[0;31mIOError\u001b[0m                                   Traceback (most recent call last)",
      "\u001b[0;32m<ipython-input-1-902941756e81>\u001b[0m in \u001b[0;36m<module>\u001b[0;34m()\u001b[0m\n\u001b[1;32m     26\u001b[0m         \u001b[0msummary\u001b[0m \u001b[0;34m+=\u001b[0m \u001b[0msentence\u001b[0m\u001b[0;34m.\u001b[0m\u001b[0msentence\u001b[0m \u001b[0;34m+\u001b[0m \u001b[0;34m'\\n'\u001b[0m\u001b[0;34m\u001b[0m\u001b[0m\n\u001b[1;32m     27\u001b[0m \u001b[0;34m\u001b[0m\u001b[0m\n\u001b[0;32m---> 28\u001b[0;31m     \u001b[0;32mwith\u001b[0m \u001b[0mopen\u001b[0m\u001b[0;34m(\u001b[0m\u001b[0mnew_filepath\u001b[0m\u001b[0;34m,\u001b[0m \u001b[0;34m\"a\"\u001b[0m\u001b[0;34m)\u001b[0m \u001b[0;32mas\u001b[0m \u001b[0mf\u001b[0m\u001b[0;34m:\u001b[0m\u001b[0;34m\u001b[0m\u001b[0m\n\u001b[0m\u001b[1;32m     29\u001b[0m         \u001b[0mf\u001b[0m\u001b[0;34m.\u001b[0m\u001b[0mwrite\u001b[0m\u001b[0;34m(\u001b[0m\u001b[0msummary\u001b[0m\u001b[0;34m)\u001b[0m\u001b[0;34m\u001b[0m\u001b[0m\n",
      "\u001b[0;31mIOError\u001b[0m: [Errno 2] No such file or directory: '/home/s10166858/kawaijoe/Extractive Methods/TextRank4ZH/system/article1_system1.txt'"
     ]
    }
   ],
   "source": [
    "# Code to run all extractive dataset for TextRank4ZH\n",
    "import sys\n",
    "import os\n",
    "from textrank4zh import TextRank4Keyword, TextRank4Sentence\n",
    "file_count = 0\n",
    "\n",
    "dataset_folder_path = \"/home/s10166858/kawaijoe/Dataset/LCST/extractive_dataset\"\n",
    "system_dir = \"/home/s10166858/kawaijoe/Extractive Methods/TextRank4ZH/system\"\n",
    "\n",
    "tr4s = TextRank4Sentence()\n",
    "\n",
    "for file in sorted(os.listdir(dataset_folder_path), key=lambda name: int(name[0:-4])):\n",
    "    summary = \"\"\n",
    "    file_count = file_count + 1\n",
    "\n",
    "    with open(dataset_folder_path + \"/\" + file, \"r\") as f:\n",
    "        text = f.read()\n",
    "\n",
    "    tr4s.analyze(text=text, lower=True, source = 'all_filters')\n",
    "\n",
    "    new_filename = \"article\" + str(file_count) + \"_system1.txt\"\n",
    "    new_filepath = os.path.join(system_dir, new_filename)\n",
    "\n",
    "    # Limited to 1 sentence\n",
    "    for sentence in tr4s.get_key_sentences(num=1):\n",
    "        summary += sentence.sentence + '\\n'\n",
    "\n",
    "    with open(new_filepath, \"a\") as f:\n",
    "        f.write(summary)"
   ]
  },
  {
   "cell_type": "code",
   "execution_count": 5,
   "metadata": {},
   "outputs": [],
   "source": [
    "# Code to run all extractive dataset for TextRank4ZH\n",
    "import sys\n",
    "import os\n",
    "from textrank4zh import TextRank4Keyword, TextRank4Sentence\n",
    "file_count = 0\n",
    "\n",
    "dataset_folder_path = \"/home/s10166858/kawaijoe/Dataset/LCST/3_examples\"\n",
    "system_dir = \"/home/s10166858/kawaijoe/Extractive Methods/TextRank4ZH/3_examples_results/stopwords/\"\n",
    "\n",
    "tr4s = TextRank4Sentence()\n",
    "\n",
    "for file in sorted(os.listdir(dataset_folder_path), key=lambda name: int(name[0:-4])):\n",
    "    summary = \"\"\n",
    "    file_count = file_count + 1\n",
    "\n",
    "    with open(dataset_folder_path + \"/\" + file, \"r\") as f:\n",
    "        text = f.read()\n",
    "\n",
    "    tr4s.analyze(text=text, lower=True, source = 'all_filters')\n",
    "\n",
    "    new_filename = \"article\" + str(file_count) + \"_system1.txt\"\n",
    "    new_filepath = os.path.join(system_dir, new_filename)\n",
    "\n",
    "    # Limited to 1 sentence\n",
    "    for sentence in tr4s.get_key_sentences(num=1):\n",
    "        summary += sentence.sentence + '\\n'\n",
    "\n",
    "    with open(new_filepath, \"a\") as f:\n",
    "        f.write(summary)"
   ]
  },
  {
   "cell_type": "code",
   "execution_count": null,
   "metadata": {},
   "outputs": [],
   "source": [
    "# # Logging module - used here as printing on jupyter does not work for some reason\n",
    "# import datetime\n",
    "# import logging\n",
    "    \n",
    "# logger = logging.getLogger()\n",
    "    \n",
    "# def setup_file_logger(log_file):\n",
    "#     hdlr = logging.FileHandler(log_file)\n",
    "#     formatter = logging.Formatter('%(message)s')\n",
    "#     hdlr.setFormatter(formatter)\n",
    "#     logger.addHandler(hdlr) \n",
    "#     logger.setLevel(logging.INFO)\n",
    "    \n",
    "# def log(message):\n",
    "#     #outputs to Jupyter console\n",
    "#     #outputs to file\n",
    "#     logger.info(message)\n",
    "    \n",
    "# setup_file_logger('out.log')"
   ]
  },
  {
   "cell_type": "code",
   "execution_count": null,
   "metadata": {},
   "outputs": [],
   "source": [
    "# #-*- encoding:utf-8 -*-\n",
    "# from __future__ import print_function\n",
    "\n",
    "# import sys\n",
    "# try:\n",
    "#     reload(sys)\n",
    "#     sys.setdefaultencoding('utf-8')\n",
    "# except:\n",
    "#     pass\n",
    "\n",
    "# import codecs\n",
    "# from textrank4zh import TextRank4Keyword, TextRank4Sentence\n",
    "\n",
    "# text = codecs.open('/home/s10166858/kawaijoe/Dataset/LCST/extractive_dataset/2.txt', 'r', 'utf-8').read()\n",
    "\n",
    "# log(\"Text: \" + text)\n",
    "\n",
    "# ###TextRank4Keyword###\n",
    "# tr4w = TextRank4Keyword()\n",
    "# tr4w.analyze(text=text, lower=True, window=2)\n",
    "\n",
    "# log( 'Keywords - 关键词：' )\n",
    "# for item in tr4w.get_keywords(20, word_min_len=1):\n",
    "#     log(item.word + \" \" + str(item.weight))\n",
    "\n",
    "# log('')\n",
    "# log( 'Keyphrases - 关键短语：' )\n",
    "# for phrase in tr4w.get_keyphrases(keywords_num=20, min_occur_num= 0):\n",
    "#     log(phrase)\n",
    "\n",
    "    \n",
    "# ###TextRank4Sentence###\n",
    "# tr4s = TextRank4Sentence()\n",
    "# tr4s.analyze(text=text, lower=True, source = 'all_filters')\n",
    "# log('')\n",
    "# log( 'Summary - 摘要：' )\n",
    "\n",
    "# #.index - Sentence No.\n",
    "# #.weight - importance of sentence\n",
    "# #.sentence - actual sentence\n",
    "# for sentence in tr4s.get_key_sentences(num=3):\n",
    "#     log(str(sentence.index) + \" \" + str(sentence.weight) + \" \"  + sentence.sentence)"
   ]
  }
 ],
 "metadata": {
  "kernelspec": {
   "display_name": "Python 3",
   "language": "python",
   "name": "python3"
  },
  "language_info": {
   "codemirror_mode": {
    "name": "ipython",
    "version": 2
   },
   "file_extension": ".py",
   "mimetype": "text/x-python",
   "name": "python",
   "nbconvert_exporter": "python",
   "pygments_lexer": "ipython2",
   "version": "2.7.14"
  }
 },
 "nbformat": 4,
 "nbformat_minor": 2
}
