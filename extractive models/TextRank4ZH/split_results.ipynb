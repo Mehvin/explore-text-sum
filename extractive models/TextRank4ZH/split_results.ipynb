{
 "cells": [
  {
   "cell_type": "markdown",
   "metadata": {},
   "source": [
    "# Splitting Results\n",
    "\n",
    "This program splits the system (generated summary) & reference (gold-standard) summaries into 2 - as LCSTS dataset is too big to run ROUGE 2.0 package\n",
    "\n",
    "Run this program after run_TextRank4ZH"
   ]
  },
  {
   "cell_type": "code",
   "execution_count": 1,
   "metadata": {},
   "outputs": [],
   "source": [
    "# This program will split the 720177 files (Testing set/30% of total) into 2 \n",
    "# Was done mainly for excel - ROUGE results\n",
    "import os\n",
    "from shutil import copyfile\n",
    "\n",
    "reference_folder_path = \"/home/s10166858/kawaijoe/Extractive Methods/TextRank4ZH/all_results/reference/\"\n",
    "system_folder_path = \"/home/s10166858/kawaijoe/Extractive Methods/TextRank4ZH/all_results/system/\"\n",
    "\n",
    "part1_reference = \"/home/s10166858/kawaijoe/Extractive Methods/TextRank4ZH/results_part_1/reference/\"\n",
    "part2_reference = \"/home/s10166858/kawaijoe/Extractive Methods/TextRank4ZH/results_part_2/reference/\"\n",
    "\n",
    "part1_system = \"/home/s10166858/kawaijoe/Extractive Methods/TextRank4ZH/results_part_1/system/\"\n",
    "part2_system = \"/home/s10166858/kawaijoe/Extractive Methods/TextRank4ZH/results_part_2/system/\"\n",
    "\n",
    "# Part1 will contain the first 360088 files\n",
    "# Followed by Part2 which will contain the other 360089 files"
   ]
  },
  {
   "cell_type": "code",
   "execution_count": 2,
   "metadata": {},
   "outputs": [
    {
     "name": "stdout",
     "output_type": "stream",
     "text": [
      "100000 files ran\n",
      "200000 files ran\n",
      "300000 files ran\n",
      "400000 files ran\n",
      "500000 files ran\n",
      "600000 files ran\n",
      "700000 files ran\n"
     ]
    }
   ],
   "source": [
    "count = 1\n",
    "\n",
    "# Creating new files for part1_reference\n",
    "while True:\n",
    "    if count == 360089:\n",
    "        break\n",
    "    else:\n",
    "        new_path = part1_reference + \"article\" + str(count) + \"_reference1.txt\"\n",
    "        with open(new_path, \"a\") as f:\n",
    "            if count % 100000 == 0:\n",
    "                print(str(count) + \" files ran\")\n",
    "        count = count + 1\n",
    "\n",
    "        \n",
    "# Creating new files for part2_reference\n",
    "while True:\n",
    "    if count == 720178:\n",
    "        break\n",
    "    else:\n",
    "        new_path = part2_reference + \"article\" + str(count) + \"_reference1.txt\"\n",
    "        with open(new_path, \"a\") as f:\n",
    "            if count % 100000 == 0:\n",
    "                print(str(count) + \" files ran\")\n",
    "        count = count + 1"
   ]
  },
  {
   "cell_type": "code",
   "execution_count": 3,
   "metadata": {},
   "outputs": [],
   "source": [
    "# Copying files for part1_reference\n",
    "file_count = 0\n",
    "\n",
    "for file in sorted(os.listdir(reference_folder_path), key=lambda name: int(name[7:-15])):\n",
    "    file_count = file_count + 1\n",
    "    \n",
    "    if file_count < 360089:\n",
    "        newfile = part1_reference + file\n",
    "        oldfile = reference_folder_path + file\n",
    "        copyfile(oldfile, newfile)\n",
    "    \n",
    "    else:\n",
    "        break\n",
    "        \n",
    "# Copying files for part2_reference\n",
    "file_count = 0\n",
    "\n",
    "for file in sorted(os.listdir(reference_folder_path), key=lambda name: int(name[7:-15])):\n",
    "    file_count = file_count + 1\n",
    "\n",
    "    if file_count > 360088:\n",
    "        newfile = part2_reference + file\n",
    "        oldfile = reference_folder_path + file\n",
    "        copyfile(oldfile, newfile)"
   ]
  },
  {
   "cell_type": "code",
   "execution_count": 4,
   "metadata": {},
   "outputs": [
    {
     "name": "stdout",
     "output_type": "stream",
     "text": [
      "100000 files ran\n",
      "200000 files ran\n",
      "300000 files ran\n",
      "400000 files ran\n",
      "500000 files ran\n",
      "600000 files ran\n",
      "700000 files ran\n"
     ]
    }
   ],
   "source": [
    "count = 1\n",
    "\n",
    "# Creating new files for part1_system\n",
    "while True:\n",
    "    if count == 360089:\n",
    "        break\n",
    "    else:\n",
    "        new_path = part1_system + \"article\" + str(count) + \"_system1.txt\"\n",
    "        with open(new_path, \"a\") as f:\n",
    "            if count % 100000 == 0:\n",
    "                print(str(count) + \" files ran\")\n",
    "        count = count + 1\n",
    "\n",
    "\n",
    "# Creating new files for part2_system\n",
    "while True:\n",
    "    if count == 720178:\n",
    "        break\n",
    "    else:\n",
    "        new_path = part2_system + \"article\" + str(count) + \"_system1.txt\"\n",
    "        with open(new_path, \"a\") as f:\n",
    "            if count % 100000 == 0:\n",
    "                print(str(count) + \" files ran\")\n",
    "        count = count + 1"
   ]
  },
  {
   "cell_type": "code",
   "execution_count": 5,
   "metadata": {},
   "outputs": [],
   "source": [
    "# Copying files for part1_system\n",
    "file_count = 0\n",
    "\n",
    "for file in sorted(os.listdir(system_folder_path), key=lambda name: int(name[7:-12])):\n",
    "    file_count = file_count + 1\n",
    "    \n",
    "    if file_count < 360089:\n",
    "        newfile = part1_system + file\n",
    "        oldfile = system_folder_path + file\n",
    "        copyfile(oldfile, newfile)\n",
    "    \n",
    "    else:\n",
    "        break\n",
    "        \n",
    "# Copying files for part2_system\n",
    "file_count = 0\n",
    "\n",
    "for file in sorted(os.listdir(system_folder_path), key=lambda name: int(name[7:-12])):\n",
    "    file_count = file_count + 1\n",
    "\n",
    "    if file_count > 360088:\n",
    "        newfile = part2_system + file\n",
    "        oldfile = system_folder_path + file\n",
    "        copyfile(oldfile, newfile)"
   ]
  },
  {
   "cell_type": "code",
   "execution_count": null,
   "metadata": {},
   "outputs": [],
   "source": []
  }
 ],
 "metadata": {
  "kernelspec": {
   "display_name": "Python 3",
   "language": "python",
   "name": "python3"
  },
  "language_info": {
   "codemirror_mode": {
    "name": "ipython",
    "version": 2
   },
   "file_extension": ".py",
   "mimetype": "text/x-python",
   "name": "python",
   "nbconvert_exporter": "python",
   "pygments_lexer": "ipython2",
   "version": "2.7.14"
  }
 },
 "nbformat": 4,
 "nbformat_minor": 2
}
