{
 "cells": [
  {
   "cell_type": "code",
   "execution_count": 1,
   "metadata": {},
   "outputs": [],
   "source": [
    "# This program stores all reference summary into a folder, for evaluation\n",
    "# Reference summary refers to the \"gold standard\" \n",
    "# Version 2 - gets the 30% testing datasets\n",
    "\n",
    "import os\n",
    "\n",
    "dataset_path = \"/home/kawaijoe/Dataset/cnn-dailymail-master/pre_extractive_dataset\"\n",
    "\n",
    "reference_dir = \"/home/kawaijoe/Extractive Methods/pytextrank/reference\""
   ]
  },
  {
   "cell_type": "code",
   "execution_count": 2,
   "metadata": {},
   "outputs": [
    {
     "name": "stdout",
     "output_type": "stream",
     "text": [
      "References done!\n"
     ]
    }
   ],
   "source": [
    "os.makedirs(reference_dir)\n",
    "\n",
    "file_count = 1\n",
    "for file in sorted(os.listdir(dataset_path)):\n",
    "    data = \"\"\n",
    "    pre_data = \"\"\n",
    "    summary_line = False\n",
    "    new_filename = \"article\" + str(file_count) + \"_reference1.txt\"\n",
    "    new_filepath = os.path.join(reference_dir, new_filename)\n",
    "    \n",
    "    with open(dataset_path + '/' + file, 'r') as f:\n",
    "        for line in f:\n",
    "            if summary_line is True and line != \"\":\n",
    "                data += line\n",
    "                data = data.replace(\"@highlight\", \" \")\n",
    "                data = data.strip()\n",
    "                data = data.rstrip()\n",
    "                data += '\\n'\n",
    "                \n",
    "            if \"@highlight\" in line:\n",
    "                summary_line = True\n",
    "            \n",
    "    with open(new_filepath, \"a\") as f:\n",
    "        f.write(data)\n",
    "    \n",
    "    file_count = file_count + 1    \n",
    "        \n",
    "        \n",
    "print(\"References done!\")"
   ]
  }
 ],
 "metadata": {
  "kernelspec": {
   "display_name": "Python 3",
   "language": "python",
   "name": "python3"
  },
  "language_info": {
   "codemirror_mode": {
    "name": "ipython",
    "version": 2
   },
   "file_extension": ".py",
   "mimetype": "text/x-python",
   "name": "python",
   "nbconvert_exporter": "python",
   "pygments_lexer": "ipython2",
   "version": "2.7.14"
  }
 },
 "nbformat": 4,
 "nbformat_minor": 2
}
